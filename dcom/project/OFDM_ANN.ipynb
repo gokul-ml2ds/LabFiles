{
  "nbformat": 4,
  "nbformat_minor": 0,
  "metadata": {
    "kernelspec": {
      "display_name": "Python 3",
      "language": "python",
      "name": "python3"
    },
    "language_info": {
      "codemirror_mode": {
        "name": "ipython",
        "version": 3
      },
      "file_extension": ".py",
      "mimetype": "text/x-python",
      "name": "python",
      "nbconvert_exporter": "python",
      "pygments_lexer": "ipython3",
      "version": "3.8.5"
    },
    "colab": {
      "name": "OFDM-ANN.ipynb",
      "provenance": []
    }
  },
  "cells": [
    {
      "cell_type": "code",
      "metadata": {
        "id": "2cpvXlOCKxe3"
      },
      "source": [
        "import pandas as pd\n",
        "import numpy as np\n",
        "from sklearn.preprocessing import StandardScaler"
      ],
      "execution_count": 66,
      "outputs": []
    },
    {
      "cell_type": "code",
      "metadata": {
        "id": "aBevMI6nKxe6"
      },
      "source": [
        "import keras"
      ],
      "execution_count": 67,
      "outputs": []
    },
    {
      "cell_type": "code",
      "metadata": {
        "id": "fZ2cbaySKxe6"
      },
      "source": [
        "df = pd.read_csv(\"updated_signal.csv\")\n"
      ],
      "execution_count": 79,
      "outputs": []
    },
    {
      "cell_type": "code",
      "metadata": {
        "colab": {
          "base_uri": "https://localhost:8080/",
          "height": 396
        },
        "id": "b5zOOQ3kKxe6",
        "outputId": "9333fd43-a48e-4c0f-9772-9d9db89bd775"
      },
      "source": [
        "df.head(10)"
      ],
      "execution_count": 80,
      "outputs": [
        {
          "output_type": "execute_result",
          "data": {
            "text/html": [
              "<div>\n",
              "<style scoped>\n",
              "    .dataframe tbody tr th:only-of-type {\n",
              "        vertical-align: middle;\n",
              "    }\n",
              "\n",
              "    .dataframe tbody tr th {\n",
              "        vertical-align: top;\n",
              "    }\n",
              "\n",
              "    .dataframe thead th {\n",
              "        text-align: right;\n",
              "    }\n",
              "</style>\n",
              "<table border=\"1\" class=\"dataframe\">\n",
              "  <thead>\n",
              "    <tr style=\"text-align: right;\">\n",
              "      <th></th>\n",
              "      <th>Unnamed: 0</th>\n",
              "      <th>Unnamed: 0.1</th>\n",
              "      <th>input_data</th>\n",
              "      <th>output_data</th>\n",
              "      <th>received_data_real</th>\n",
              "      <th>received_data_imag</th>\n",
              "      <th>transmitted_data_real</th>\n",
              "      <th>transmitted_data_imag</th>\n",
              "      <th>encoded_data_real</th>\n",
              "      <th>encoded_data_imag</th>\n",
              "    </tr>\n",
              "  </thead>\n",
              "  <tbody>\n",
              "    <tr>\n",
              "      <th>0</th>\n",
              "      <td>0</td>\n",
              "      <td>0</td>\n",
              "      <td>0</td>\n",
              "      <td>0</td>\n",
              "      <td>0.000000</td>\n",
              "      <td>0.000000</td>\n",
              "      <td>0.000000</td>\n",
              "      <td>0.000000</td>\n",
              "      <td>0.000000</td>\n",
              "      <td>0.000000</td>\n",
              "    </tr>\n",
              "    <tr>\n",
              "      <th>1</th>\n",
              "      <td>23</td>\n",
              "      <td>23</td>\n",
              "      <td>165</td>\n",
              "      <td>162</td>\n",
              "      <td>-1.099938</td>\n",
              "      <td>0.032600</td>\n",
              "      <td>1.005887</td>\n",
              "      <td>0.008205</td>\n",
              "      <td>1.414214</td>\n",
              "      <td>-1.414214</td>\n",
              "    </tr>\n",
              "    <tr>\n",
              "      <th>2</th>\n",
              "      <td>29</td>\n",
              "      <td>29</td>\n",
              "      <td>168</td>\n",
              "      <td>162</td>\n",
              "      <td>-0.111939</td>\n",
              "      <td>-0.345232</td>\n",
              "      <td>-0.084933</td>\n",
              "      <td>0.102517</td>\n",
              "      <td>1.414214</td>\n",
              "      <td>1.414214</td>\n",
              "    </tr>\n",
              "    <tr>\n",
              "      <th>3</th>\n",
              "      <td>30</td>\n",
              "      <td>30</td>\n",
              "      <td>41</td>\n",
              "      <td>36</td>\n",
              "      <td>0.048014</td>\n",
              "      <td>0.193218</td>\n",
              "      <td>-0.649755</td>\n",
              "      <td>0.174344</td>\n",
              "      <td>1.414214</td>\n",
              "      <td>1.414214</td>\n",
              "    </tr>\n",
              "    <tr>\n",
              "      <th>4</th>\n",
              "      <td>35</td>\n",
              "      <td>35</td>\n",
              "      <td>30</td>\n",
              "      <td>36</td>\n",
              "      <td>0.700004</td>\n",
              "      <td>1.254664</td>\n",
              "      <td>0.082843</td>\n",
              "      <td>0.312132</td>\n",
              "      <td>1.414214</td>\n",
              "      <td>1.414214</td>\n",
              "    </tr>\n",
              "    <tr>\n",
              "      <th>5</th>\n",
              "      <td>60</td>\n",
              "      <td>60</td>\n",
              "      <td>238</td>\n",
              "      <td>246</td>\n",
              "      <td>0.167347</td>\n",
              "      <td>-0.958249</td>\n",
              "      <td>-1.010805</td>\n",
              "      <td>0.811226</td>\n",
              "      <td>1.414214</td>\n",
              "      <td>-1.414214</td>\n",
              "    </tr>\n",
              "    <tr>\n",
              "      <th>6</th>\n",
              "      <td>75</td>\n",
              "      <td>75</td>\n",
              "      <td>95</td>\n",
              "      <td>91</td>\n",
              "      <td>1.483420</td>\n",
              "      <td>-0.663337</td>\n",
              "      <td>-0.913666</td>\n",
              "      <td>0.238490</td>\n",
              "      <td>-1.414214</td>\n",
              "      <td>1.414214</td>\n",
              "    </tr>\n",
              "    <tr>\n",
              "      <th>7</th>\n",
              "      <td>113</td>\n",
              "      <td>113</td>\n",
              "      <td>87</td>\n",
              "      <td>88</td>\n",
              "      <td>-0.207286</td>\n",
              "      <td>0.896369</td>\n",
              "      <td>-0.075678</td>\n",
              "      <td>0.244347</td>\n",
              "      <td>1.414214</td>\n",
              "      <td>1.414214</td>\n",
              "    </tr>\n",
              "    <tr>\n",
              "      <th>8</th>\n",
              "      <td>115</td>\n",
              "      <td>115</td>\n",
              "      <td>96</td>\n",
              "      <td>88</td>\n",
              "      <td>0.044824</td>\n",
              "      <td>-1.717046</td>\n",
              "      <td>0.440569</td>\n",
              "      <td>0.001306</td>\n",
              "      <td>-1.414214</td>\n",
              "      <td>1.414214</td>\n",
              "    </tr>\n",
              "    <tr>\n",
              "      <th>9</th>\n",
              "      <td>151</td>\n",
              "      <td>151</td>\n",
              "      <td>175</td>\n",
              "      <td>167</td>\n",
              "      <td>0.322875</td>\n",
              "      <td>0.339851</td>\n",
              "      <td>-0.144661</td>\n",
              "      <td>0.363579</td>\n",
              "      <td>-1.414214</td>\n",
              "      <td>-1.414214</td>\n",
              "    </tr>\n",
              "  </tbody>\n",
              "</table>\n",
              "</div>"
            ],
            "text/plain": [
              "   Unnamed: 0  Unnamed: 0.1  ...  encoded_data_real  encoded_data_imag\n",
              "0           0             0  ...           0.000000           0.000000\n",
              "1          23            23  ...           1.414214          -1.414214\n",
              "2          29            29  ...           1.414214           1.414214\n",
              "3          30            30  ...           1.414214           1.414214\n",
              "4          35            35  ...           1.414214           1.414214\n",
              "5          60            60  ...           1.414214          -1.414214\n",
              "6          75            75  ...          -1.414214           1.414214\n",
              "7         113           113  ...           1.414214           1.414214\n",
              "8         115           115  ...          -1.414214           1.414214\n",
              "9         151           151  ...          -1.414214          -1.414214\n",
              "\n",
              "[10 rows x 10 columns]"
            ]
          },
          "metadata": {
            "tags": []
          },
          "execution_count": 80
        }
      ]
    },
    {
      "cell_type": "code",
      "metadata": {
        "id": "oz6bAuBMKxe6"
      },
      "source": [
        "df.drop('Unnamed: 0.1', inplace=True, axis=1)\n",
        "#df.drop('Unnamed: 0', inplace=True, axis=1)"
      ],
      "execution_count": 82,
      "outputs": []
    },
    {
      "cell_type": "code",
      "metadata": {
        "colab": {
          "base_uri": "https://localhost:8080/"
        },
        "id": "2atAC_5qKxe7",
        "outputId": "edebdecf-438d-4031-ba35-89f0dec5b508"
      },
      "source": [
        "df[\"input_data\"].max()   # finding max for normalising"
      ],
      "execution_count": 83,
      "outputs": [
        {
          "output_type": "execute_result",
          "data": {
            "text/plain": [
              "254"
            ]
          },
          "metadata": {
            "tags": []
          },
          "execution_count": 83
        }
      ]
    },
    {
      "cell_type": "code",
      "metadata": {
        "colab": {
          "base_uri": "https://localhost:8080/"
        },
        "id": "QWEJle-2Kxe7",
        "outputId": "c30475e5-a3e5-408f-c494-2bfb35dfb75c"
      },
      "source": [
        "df[\"output_data\"].max() # finding max for normalising"
      ],
      "execution_count": 84,
      "outputs": [
        {
          "output_type": "execute_result",
          "data": {
            "text/plain": [
              "251"
            ]
          },
          "metadata": {
            "tags": []
          },
          "execution_count": 84
        }
      ]
    },
    {
      "cell_type": "code",
      "metadata": {
        "id": "yRbDyIerKxe7"
      },
      "source": [
        "scale = StandardScaler()\n",
        "df = scale.fit_transform(df)"
      ],
      "execution_count": 85,
      "outputs": []
    },
    {
      "cell_type": "code",
      "metadata": {
        "id": "TdlhnWw7Kxe8"
      },
      "source": [
        "\n",
        "df = pd.DataFrame(df)"
      ],
      "execution_count": 86,
      "outputs": []
    },
    {
      "cell_type": "code",
      "metadata": {
        "colab": {
          "base_uri": "https://localhost:8080/",
          "height": 297
        },
        "id": "svu5Wnw6Kxe8",
        "outputId": "d4b6dd45-4b6b-4960-bd1d-b920648a3e2c"
      },
      "source": [
        "df.describe()"
      ],
      "execution_count": 87,
      "outputs": [
        {
          "output_type": "execute_result",
          "data": {
            "text/html": [
              "<div>\n",
              "<style scoped>\n",
              "    .dataframe tbody tr th:only-of-type {\n",
              "        vertical-align: middle;\n",
              "    }\n",
              "\n",
              "    .dataframe tbody tr th {\n",
              "        vertical-align: top;\n",
              "    }\n",
              "\n",
              "    .dataframe thead th {\n",
              "        text-align: right;\n",
              "    }\n",
              "</style>\n",
              "<table border=\"1\" class=\"dataframe\">\n",
              "  <thead>\n",
              "    <tr style=\"text-align: right;\">\n",
              "      <th></th>\n",
              "      <th>0</th>\n",
              "      <th>1</th>\n",
              "      <th>2</th>\n",
              "      <th>3</th>\n",
              "      <th>4</th>\n",
              "      <th>5</th>\n",
              "      <th>6</th>\n",
              "      <th>7</th>\n",
              "    </tr>\n",
              "  </thead>\n",
              "  <tbody>\n",
              "    <tr>\n",
              "      <th>count</th>\n",
              "      <td>6.981000e+03</td>\n",
              "      <td>6.981000e+03</td>\n",
              "      <td>6.981000e+03</td>\n",
              "      <td>6.981000e+03</td>\n",
              "      <td>6.981000e+03</td>\n",
              "      <td>6.981000e+03</td>\n",
              "      <td>6.981000e+03</td>\n",
              "      <td>6.981000e+03</td>\n",
              "    </tr>\n",
              "    <tr>\n",
              "      <th>mean</th>\n",
              "      <td>-4.961891e-18</td>\n",
              "      <td>1.606889e-16</td>\n",
              "      <td>-1.415411e-18</td>\n",
              "      <td>-1.145052e-18</td>\n",
              "      <td>6.218267e-18</td>\n",
              "      <td>4.246233e-18</td>\n",
              "      <td>-2.208677e-16</td>\n",
              "      <td>5.006420e-16</td>\n",
              "    </tr>\n",
              "    <tr>\n",
              "      <th>std</th>\n",
              "      <td>1.000072e+00</td>\n",
              "      <td>1.000072e+00</td>\n",
              "      <td>1.000072e+00</td>\n",
              "      <td>1.000072e+00</td>\n",
              "      <td>1.000072e+00</td>\n",
              "      <td>1.000072e+00</td>\n",
              "      <td>1.000072e+00</td>\n",
              "      <td>1.000072e+00</td>\n",
              "    </tr>\n",
              "    <tr>\n",
              "      <th>min</th>\n",
              "      <td>-1.838735e+00</td>\n",
              "      <td>-1.844318e+00</td>\n",
              "      <td>-3.801324e+00</td>\n",
              "      <td>-3.736527e+00</td>\n",
              "      <td>-4.127746e+00</td>\n",
              "      <td>-3.811691e+00</td>\n",
              "      <td>-9.782483e-01</td>\n",
              "      <td>-9.372868e-01</td>\n",
              "    </tr>\n",
              "    <tr>\n",
              "      <th>25%</th>\n",
              "      <td>-8.344165e-01</td>\n",
              "      <td>-8.130780e-01</td>\n",
              "      <td>-6.130495e-01</td>\n",
              "      <td>-6.480501e-01</td>\n",
              "      <td>-5.857500e-01</td>\n",
              "      <td>-5.954422e-01</td>\n",
              "      <td>-9.782483e-01</td>\n",
              "      <td>-9.372868e-01</td>\n",
              "    </tr>\n",
              "    <tr>\n",
              "      <th>50%</th>\n",
              "      <td>-2.346151e-01</td>\n",
              "      <td>-1.859727e-01</td>\n",
              "      <td>1.213949e-02</td>\n",
              "      <td>-1.855561e-02</td>\n",
              "      <td>-1.649315e-02</td>\n",
              "      <td>8.617117e-04</td>\n",
              "      <td>-9.782483e-01</td>\n",
              "      <td>-9.372868e-01</td>\n",
              "    </tr>\n",
              "    <tr>\n",
              "      <th>75%</th>\n",
              "      <td>9.091921e-01</td>\n",
              "      <td>9.149455e-01</td>\n",
              "      <td>5.981062e-01</td>\n",
              "      <td>6.257851e-01</td>\n",
              "      <td>6.127126e-01</td>\n",
              "      <td>5.956339e-01</td>\n",
              "      <td>1.022382e+00</td>\n",
              "      <td>1.067063e+00</td>\n",
              "    </tr>\n",
              "    <tr>\n",
              "      <th>max</th>\n",
              "      <td>1.704278e+00</td>\n",
              "      <td>1.653536e+00</td>\n",
              "      <td>4.589705e+00</td>\n",
              "      <td>3.935213e+00</td>\n",
              "      <td>4.215901e+00</td>\n",
              "      <td>4.323131e+00</td>\n",
              "      <td>1.022382e+00</td>\n",
              "      <td>1.067063e+00</td>\n",
              "    </tr>\n",
              "  </tbody>\n",
              "</table>\n",
              "</div>"
            ],
            "text/plain": [
              "                  0             1  ...             6             7\n",
              "count  6.981000e+03  6.981000e+03  ...  6.981000e+03  6.981000e+03\n",
              "mean  -4.961891e-18  1.606889e-16  ... -2.208677e-16  5.006420e-16\n",
              "std    1.000072e+00  1.000072e+00  ...  1.000072e+00  1.000072e+00\n",
              "min   -1.838735e+00 -1.844318e+00  ... -9.782483e-01 -9.372868e-01\n",
              "25%   -8.344165e-01 -8.130780e-01  ... -9.782483e-01 -9.372868e-01\n",
              "50%   -2.346151e-01 -1.859727e-01  ... -9.782483e-01 -9.372868e-01\n",
              "75%    9.091921e-01  9.149455e-01  ...  1.022382e+00  1.067063e+00\n",
              "max    1.704278e+00  1.653536e+00  ...  1.022382e+00  1.067063e+00\n",
              "\n",
              "[8 rows x 8 columns]"
            ]
          },
          "metadata": {
            "tags": []
          },
          "execution_count": 87
        }
      ]
    },
    {
      "cell_type": "code",
      "metadata": {
        "id": "PtU2ZS96Kxe8"
      },
      "source": [
        "df.columns = [\"input_data\",\"output_data\",\"received_data_real\",\"received_data_imag\",\"transmitted_data_real\",\"transmitted_data_imag\",\"encoded_data_real\",\"encoded_data_imag\"]"
      ],
      "execution_count": 88,
      "outputs": []
    },
    {
      "cell_type": "code",
      "metadata": {
        "colab": {
          "base_uri": "https://localhost:8080/",
          "height": 419
        },
        "id": "XLU9UQofKxe8",
        "outputId": "54ffbe48-921b-40b7-9316-ad5648b8ddc1"
      },
      "source": [
        "df"
      ],
      "execution_count": 89,
      "outputs": [
        {
          "output_type": "execute_result",
          "data": {
            "text/html": [
              "<div>\n",
              "<style scoped>\n",
              "    .dataframe tbody tr th:only-of-type {\n",
              "        vertical-align: middle;\n",
              "    }\n",
              "\n",
              "    .dataframe tbody tr th {\n",
              "        vertical-align: top;\n",
              "    }\n",
              "\n",
              "    .dataframe thead th {\n",
              "        text-align: right;\n",
              "    }\n",
              "</style>\n",
              "<table border=\"1\" class=\"dataframe\">\n",
              "  <thead>\n",
              "    <tr style=\"text-align: right;\">\n",
              "      <th></th>\n",
              "      <th>input_data</th>\n",
              "      <th>output_data</th>\n",
              "      <th>received_data_real</th>\n",
              "      <th>received_data_imag</th>\n",
              "      <th>transmitted_data_real</th>\n",
              "      <th>transmitted_data_imag</th>\n",
              "      <th>encoded_data_real</th>\n",
              "      <th>encoded_data_imag</th>\n",
              "    </tr>\n",
              "  </thead>\n",
              "  <tbody>\n",
              "    <tr>\n",
              "      <th>0</th>\n",
              "      <td>-1.838735</td>\n",
              "      <td>-1.844318</td>\n",
              "      <td>-0.013467</td>\n",
              "      <td>-0.007984</td>\n",
              "      <td>-0.016493</td>\n",
              "      <td>-0.027450</td>\n",
              "      <td>0.022067</td>\n",
              "      <td>0.064888</td>\n",
              "    </tr>\n",
              "    <tr>\n",
              "      <th>1</th>\n",
              "      <td>0.462828</td>\n",
              "      <td>0.413261</td>\n",
              "      <td>-1.781933</td>\n",
              "      <td>0.043214</td>\n",
              "      <td>2.298554</td>\n",
              "      <td>-0.008303</td>\n",
              "      <td>1.022382</td>\n",
              "      <td>-0.937287</td>\n",
              "    </tr>\n",
              "    <tr>\n",
              "      <th>2</th>\n",
              "      <td>0.504675</td>\n",
              "      <td>0.413261</td>\n",
              "      <td>-0.193441</td>\n",
              "      <td>-0.550169</td>\n",
              "      <td>-0.211967</td>\n",
              "      <td>0.211791</td>\n",
              "      <td>1.022382</td>\n",
              "      <td>1.067063</td>\n",
              "    </tr>\n",
              "    <tr>\n",
              "      <th>3</th>\n",
              "      <td>-1.266831</td>\n",
              "      <td>-1.342634</td>\n",
              "      <td>0.063729</td>\n",
              "      <td>0.295463</td>\n",
              "      <td>-1.511904</td>\n",
              "      <td>0.379411</td>\n",
              "      <td>1.022382</td>\n",
              "      <td>1.067063</td>\n",
              "    </tr>\n",
              "    <tr>\n",
              "      <th>4</th>\n",
              "      <td>-1.420269</td>\n",
              "      <td>-1.342634</td>\n",
              "      <td>1.111990</td>\n",
              "      <td>1.962457</td>\n",
              "      <td>0.174169</td>\n",
              "      <td>0.700963</td>\n",
              "      <td>1.022382</td>\n",
              "      <td>1.067063</td>\n",
              "    </tr>\n",
              "    <tr>\n",
              "      <th>...</th>\n",
              "      <td>...</td>\n",
              "      <td>...</td>\n",
              "      <td>...</td>\n",
              "      <td>...</td>\n",
              "      <td>...</td>\n",
              "      <td>...</td>\n",
              "      <td>...</td>\n",
              "      <td>...</td>\n",
              "    </tr>\n",
              "    <tr>\n",
              "      <th>6976</th>\n",
              "      <td>1.592687</td>\n",
              "      <td>1.555986</td>\n",
              "      <td>-0.307491</td>\n",
              "      <td>1.117431</td>\n",
              "      <td>-1.311161</td>\n",
              "      <td>-0.712229</td>\n",
              "      <td>-0.978248</td>\n",
              "      <td>1.067063</td>\n",
              "    </tr>\n",
              "    <tr>\n",
              "      <th>6977</th>\n",
              "      <td>1.550840</td>\n",
              "      <td>1.555986</td>\n",
              "      <td>-0.184974</td>\n",
              "      <td>0.435642</td>\n",
              "      <td>-0.231801</td>\n",
              "      <td>0.376838</td>\n",
              "      <td>-0.978248</td>\n",
              "      <td>1.067063</td>\n",
              "    </tr>\n",
              "    <tr>\n",
              "      <th>6978</th>\n",
              "      <td>0.365186</td>\n",
              "      <td>0.385390</td>\n",
              "      <td>-1.542985</td>\n",
              "      <td>-1.534749</td>\n",
              "      <td>-1.130126</td>\n",
              "      <td>0.035491</td>\n",
              "      <td>-0.978248</td>\n",
              "      <td>-0.937287</td>\n",
              "    </tr>\n",
              "    <tr>\n",
              "      <th>6979</th>\n",
              "      <td>-0.499644</td>\n",
              "      <td>-0.617979</td>\n",
              "      <td>-1.286643</td>\n",
              "      <td>-1.039211</td>\n",
              "      <td>-1.766088</td>\n",
              "      <td>-0.536508</td>\n",
              "      <td>-0.978248</td>\n",
              "      <td>1.067063</td>\n",
              "    </tr>\n",
              "    <tr>\n",
              "      <th>6980</th>\n",
              "      <td>-0.569388</td>\n",
              "      <td>-0.617979</td>\n",
              "      <td>-0.650820</td>\n",
              "      <td>1.076282</td>\n",
              "      <td>0.404319</td>\n",
              "      <td>0.302580</td>\n",
              "      <td>1.022382</td>\n",
              "      <td>1.067063</td>\n",
              "    </tr>\n",
              "  </tbody>\n",
              "</table>\n",
              "<p>6981 rows × 8 columns</p>\n",
              "</div>"
            ],
            "text/plain": [
              "      input_data  output_data  ...  encoded_data_real  encoded_data_imag\n",
              "0      -1.838735    -1.844318  ...           0.022067           0.064888\n",
              "1       0.462828     0.413261  ...           1.022382          -0.937287\n",
              "2       0.504675     0.413261  ...           1.022382           1.067063\n",
              "3      -1.266831    -1.342634  ...           1.022382           1.067063\n",
              "4      -1.420269    -1.342634  ...           1.022382           1.067063\n",
              "...          ...          ...  ...                ...                ...\n",
              "6976    1.592687     1.555986  ...          -0.978248           1.067063\n",
              "6977    1.550840     1.555986  ...          -0.978248           1.067063\n",
              "6978    0.365186     0.385390  ...          -0.978248          -0.937287\n",
              "6979   -0.499644    -0.617979  ...          -0.978248           1.067063\n",
              "6980   -0.569388    -0.617979  ...           1.022382           1.067063\n",
              "\n",
              "[6981 rows x 8 columns]"
            ]
          },
          "metadata": {
            "tags": []
          },
          "execution_count": 89
        }
      ]
    },
    {
      "cell_type": "code",
      "metadata": {
        "id": "uhBUdRDEKxe9"
      },
      "source": [
        "from sklearn.model_selection import train_test_split"
      ],
      "execution_count": 90,
      "outputs": []
    },
    {
      "cell_type": "code",
      "metadata": {
        "id": "72KwaiPsKxe9"
      },
      "source": [
        "X = df[[\"input_data\",\"received_data_real\",\"received_data_imag\",\"transmitted_data_real\",\"transmitted_data_imag\",\"encoded_data_real\",\"encoded_data_imag\"]]\n",
        "y = df[[\"output_data\"]]"
      ],
      "execution_count": 162,
      "outputs": []
    },
    {
      "cell_type": "code",
      "metadata": {
        "id": "775KIVefKxe9"
      },
      "source": [
        " X_train, X_test, y_train, y_test  = train_test_split(X, y, test_size=0.2, random_state=1)\n",
        "\n",
        " "
      ],
      "execution_count": 163,
      "outputs": []
    },
    {
      "cell_type": "code",
      "metadata": {
        "id": "sVJjsBKCKxe9"
      },
      "source": [
        "from keras.models import Sequential\n",
        "from keras.layers import Dense"
      ],
      "execution_count": 164,
      "outputs": []
    },
    {
      "cell_type": "code",
      "metadata": {
        "id": "b5nfMuOEKxe9"
      },
      "source": [
        "model = Sequential()"
      ],
      "execution_count": 165,
      "outputs": []
    },
    {
      "cell_type": "code",
      "metadata": {
        "id": "cW_2izmkKxe-"
      },
      "source": [
        "model.add(Dense(units = 4, activation = 'relu', input_dim = 7))\n",
        "model.add(Dense(units = 4,  activation = 'relu'))\n",
        "model.add(Dense(units = 1,  activation = 'linear'))"
      ],
      "execution_count": 166,
      "outputs": []
    },
    {
      "cell_type": "code",
      "metadata": {
        "id": "oOk1wR4-Kxe-"
      },
      "source": [
        "\n",
        "model.compile(loss='mse', optimizer='adam', metrics=['mse','mae'])"
      ],
      "execution_count": 167,
      "outputs": []
    },
    {
      "cell_type": "code",
      "metadata": {
        "colab": {
          "base_uri": "https://localhost:8080/"
        },
        "id": "bfNUu_SJU-Ir",
        "outputId": "83c2437f-de41-4f6d-9791-5a41dbeb99ac"
      },
      "source": [
        "model.summary()"
      ],
      "execution_count": 168,
      "outputs": [
        {
          "output_type": "stream",
          "text": [
            "Model: \"sequential_9\"\n",
            "_________________________________________________________________\n",
            "Layer (type)                 Output Shape              Param #   \n",
            "=================================================================\n",
            "dense_33 (Dense)             (None, 4)                 32        \n",
            "_________________________________________________________________\n",
            "dense_34 (Dense)             (None, 4)                 20        \n",
            "_________________________________________________________________\n",
            "dense_35 (Dense)             (None, 1)                 5         \n",
            "=================================================================\n",
            "Total params: 57\n",
            "Trainable params: 57\n",
            "Non-trainable params: 0\n",
            "_________________________________________________________________\n"
          ],
          "name": "stdout"
        }
      ]
    },
    {
      "cell_type": "code",
      "metadata": {
        "colab": {
          "base_uri": "https://localhost:8080/"
        },
        "id": "QNOeTADlKxe-",
        "outputId": "1185db8b-3f09-488f-8be8-7c0fb4940539"
      },
      "source": [
        "hist = model.fit(X_train, y_train,validation_split=0.125, batch_size = 10, epochs = 20)"
      ],
      "execution_count": 169,
      "outputs": [
        {
          "output_type": "stream",
          "text": [
            "Epoch 1/20\n",
            "489/489 [==============================] - 1s 1ms/step - loss: 0.6109 - mse: 0.6109 - mae: 0.6344 - val_loss: 0.1628 - val_mse: 0.1628 - val_mae: 0.3141\n",
            "Epoch 2/20\n",
            "489/489 [==============================] - 1s 1ms/step - loss: 0.1230 - mse: 0.1230 - mae: 0.2671 - val_loss: 0.0577 - val_mse: 0.0577 - val_mae: 0.1814\n",
            "Epoch 3/20\n",
            "489/489 [==============================] - 1s 1ms/step - loss: 0.0496 - mse: 0.0496 - mae: 0.1681 - val_loss: 0.0281 - val_mse: 0.0281 - val_mae: 0.1246\n",
            "Epoch 4/20\n",
            "489/489 [==============================] - 1s 1ms/step - loss: 0.0222 - mse: 0.0222 - mae: 0.1135 - val_loss: 0.0149 - val_mse: 0.0149 - val_mae: 0.0910\n",
            "Epoch 5/20\n",
            "489/489 [==============================] - 1s 1ms/step - loss: 0.0133 - mse: 0.0133 - mae: 0.0886 - val_loss: 0.0088 - val_mse: 0.0088 - val_mae: 0.0728\n",
            "Epoch 6/20\n",
            "489/489 [==============================] - 1s 1ms/step - loss: 0.0082 - mse: 0.0082 - mae: 0.0737 - val_loss: 0.0066 - val_mse: 0.0066 - val_mae: 0.0663\n",
            "Epoch 7/20\n",
            "489/489 [==============================] - 1s 1ms/step - loss: 0.0063 - mse: 0.0063 - mae: 0.0658 - val_loss: 0.0054 - val_mse: 0.0054 - val_mae: 0.0605\n",
            "Epoch 8/20\n",
            "489/489 [==============================] - 1s 1ms/step - loss: 0.0057 - mse: 0.0057 - mae: 0.0635 - val_loss: 0.0051 - val_mse: 0.0051 - val_mae: 0.0596\n",
            "Epoch 9/20\n",
            "489/489 [==============================] - 1s 1ms/step - loss: 0.0054 - mse: 0.0054 - mae: 0.0616 - val_loss: 0.0049 - val_mse: 0.0049 - val_mae: 0.0590\n",
            "Epoch 10/20\n",
            "489/489 [==============================] - 1s 1ms/step - loss: 0.0051 - mse: 0.0051 - mae: 0.0604 - val_loss: 0.0048 - val_mse: 0.0048 - val_mae: 0.0579\n",
            "Epoch 11/20\n",
            "489/489 [==============================] - 1s 1ms/step - loss: 0.0051 - mse: 0.0051 - mae: 0.0603 - val_loss: 0.0051 - val_mse: 0.0051 - val_mae: 0.0606\n",
            "Epoch 12/20\n",
            "489/489 [==============================] - 1s 1ms/step - loss: 0.0050 - mse: 0.0050 - mae: 0.0596 - val_loss: 0.0046 - val_mse: 0.0046 - val_mae: 0.0576\n",
            "Epoch 13/20\n",
            "489/489 [==============================] - 1s 1ms/step - loss: 0.0049 - mse: 0.0049 - mae: 0.0595 - val_loss: 0.0046 - val_mse: 0.0046 - val_mae: 0.0577\n",
            "Epoch 14/20\n",
            "489/489 [==============================] - 1s 1ms/step - loss: 0.0047 - mse: 0.0047 - mae: 0.0583 - val_loss: 0.0047 - val_mse: 0.0047 - val_mae: 0.0597\n",
            "Epoch 15/20\n",
            "489/489 [==============================] - 1s 1ms/step - loss: 0.0047 - mse: 0.0047 - mae: 0.0590 - val_loss: 0.0047 - val_mse: 0.0047 - val_mae: 0.0584\n",
            "Epoch 16/20\n",
            "489/489 [==============================] - 1s 1ms/step - loss: 0.0048 - mse: 0.0048 - mae: 0.0592 - val_loss: 0.0045 - val_mse: 0.0045 - val_mae: 0.0579\n",
            "Epoch 17/20\n",
            "489/489 [==============================] - 1s 1ms/step - loss: 0.0046 - mse: 0.0046 - mae: 0.0580 - val_loss: 0.0049 - val_mse: 0.0049 - val_mae: 0.0601\n",
            "Epoch 18/20\n",
            "489/489 [==============================] - 1s 1ms/step - loss: 0.0047 - mse: 0.0047 - mae: 0.0582 - val_loss: 0.0045 - val_mse: 0.0045 - val_mae: 0.0575\n",
            "Epoch 19/20\n",
            "489/489 [==============================] - 1s 1ms/step - loss: 0.0047 - mse: 0.0047 - mae: 0.0586 - val_loss: 0.0045 - val_mse: 0.0045 - val_mae: 0.0575\n",
            "Epoch 20/20\n",
            "489/489 [==============================] - 1s 1ms/step - loss: 0.0047 - mse: 0.0047 - mae: 0.0588 - val_loss: 0.0046 - val_mse: 0.0046 - val_mae: 0.0574\n"
          ],
          "name": "stdout"
        }
      ]
    },
    {
      "cell_type": "code",
      "metadata": {
        "id": "_KXMEyk4Kxe-"
      },
      "source": [
        "y_pred = model.predict(X_test)"
      ],
      "execution_count": 175,
      "outputs": []
    },
    {
      "cell_type": "code",
      "metadata": {
        "id": "BWji_ddLKxe_"
      },
      "source": [
        "scores = model.evaluate(X_test, y_test, verbose=0)\n"
      ],
      "execution_count": 176,
      "outputs": []
    },
    {
      "cell_type": "code",
      "metadata": {
        "colab": {
          "base_uri": "https://localhost:8080/"
        },
        "id": "7OE_Lq9kPa-g",
        "outputId": "1b93a8b0-13ae-42b0-8ac6-21409e8ee07f"
      },
      "source": [
        "scores"
      ],
      "execution_count": 177,
      "outputs": [
        {
          "output_type": "execute_result",
          "data": {
            "text/plain": [
              "[0.00501980958506465, 0.00501980958506465, 0.059462256729602814]"
            ]
          },
          "metadata": {
            "tags": []
          },
          "execution_count": 177
        }
      ]
    },
    {
      "cell_type": "code",
      "metadata": {
        "id": "_7HujRegQJ-K"
      },
      "source": [
        "import matplotlib.pyplot as plt"
      ],
      "execution_count": 178,
      "outputs": []
    },
    {
      "cell_type": "code",
      "metadata": {
        "colab": {
          "base_uri": "https://localhost:8080/",
          "height": 295
        },
        "id": "aWDL9RxzSPnk",
        "outputId": "32e1a6e4-a3a7-47e3-cee5-b99ddf5a8e6b"
      },
      "source": [
        "# summarize history for loss\n",
        "plt.plot(hist.history['loss'])\n",
        "plt.plot(hist.history['val_loss'])\n",
        "plt.title('Model Loss')\n",
        "plt.ylabel('Loss')\n",
        "plt.xlabel('Epoch')\n",
        "plt.legend(['Train', 'Test'], loc='upper right')\n",
        "plt.show()"
      ],
      "execution_count": 181,
      "outputs": [
        {
          "output_type": "display_data",
          "data": {
            "image/png": "[encoded data removed]",
            "text/plain": [
              "<Figure size 432x288 with 1 Axes>"
            ]
          },
          "metadata": {
            "tags": [],
            "needs_background": "light"
          }
        }
      ]
    },
    {
      "cell_type": "code",
      "metadata": {
        "id": "WbwoG6b3WcIZ"
      },
      "source": [
        ""
      ],
      "execution_count": null,
      "outputs": []
    }
  ]
}