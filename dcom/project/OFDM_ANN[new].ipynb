{
  "nbformat": 4,
  "nbformat_minor": 0,
  "metadata": {
    "kernelspec": {
      "display_name": "Python 3",
      "language": "python",
      "name": "python3"
    },
    "language_info": {
      "codemirror_mode": {
        "name": "ipython",
        "version": 3
      },
      "file_extension": ".py",
      "mimetype": "text/x-python",
      "name": "python",
      "nbconvert_exporter": "python",
      "pygments_lexer": "ipython3",
      "version": "3.8.5"
    },
    "colab": {
      "name": "OFDM-ANN[new].ipynb",
      "provenance": [],
      "collapsed_sections": []
    }
  },
  "cells": [
    {
      "cell_type": "code",
      "metadata": {
        "id": "2cpvXlOCKxe3"
      },
      "source": [
        "import pandas as pd\n",
        "import numpy as np\n",
        "from sklearn.preprocessing import StandardScaler\n",
        "import keras\n",
        "from sklearn.model_selection import train_test_split\n",
        "from keras.models import Sequential\n",
        "from keras.layers import Dense\n",
        "import matplotlib.pyplot as plt"
      ],
      "execution_count": 329,
      "outputs": []
    },
    {
      "cell_type": "code",
      "metadata": {
        "id": "fZ2cbaySKxe6"
      },
      "source": [
        "df = pd.read_csv(\"updated_signal.csv\")\n"
      ],
      "execution_count": 280,
      "outputs": []
    },
    {
      "cell_type": "code",
      "metadata": {
        "colab": {
          "base_uri": "https://localhost:8080/",
          "height": 396
        },
        "id": "b5zOOQ3kKxe6",
        "outputId": "ea83d8f2-06d2-4d4b-88d6-942122b7aab0"
      },
      "source": [
        "df.head(10)"
      ],
      "execution_count": 281,
      "outputs": [
        {
          "output_type": "execute_result",
          "data": {
            "text/html": [
              "<div>\n",
              "<style scoped>\n",
              "    .dataframe tbody tr th:only-of-type {\n",
              "        vertical-align: middle;\n",
              "    }\n",
              "\n",
              "    .dataframe tbody tr th {\n",
              "        vertical-align: top;\n",
              "    }\n",
              "\n",
              "    .dataframe thead th {\n",
              "        text-align: right;\n",
              "    }\n",
              "</style>\n",
              "<table border=\"1\" class=\"dataframe\">\n",
              "  <thead>\n",
              "    <tr style=\"text-align: right;\">\n",
              "      <th></th>\n",
              "      <th>Unnamed: 0</th>\n",
              "      <th>Unnamed: 0.1</th>\n",
              "      <th>input_data</th>\n",
              "      <th>output_data</th>\n",
              "      <th>received_data_real</th>\n",
              "      <th>received_data_imag</th>\n",
              "      <th>transmitted_data_real</th>\n",
              "      <th>transmitted_data_imag</th>\n",
              "      <th>encoded_data_real</th>\n",
              "      <th>encoded_data_imag</th>\n",
              "    </tr>\n",
              "  </thead>\n",
              "  <tbody>\n",
              "    <tr>\n",
              "      <th>0</th>\n",
              "      <td>0</td>\n",
              "      <td>0</td>\n",
              "      <td>0</td>\n",
              "      <td>0</td>\n",
              "      <td>0.000000</td>\n",
              "      <td>0.000000</td>\n",
              "      <td>0.000000</td>\n",
              "      <td>0.000000</td>\n",
              "      <td>0.000000</td>\n",
              "      <td>0.000000</td>\n",
              "    </tr>\n",
              "    <tr>\n",
              "      <th>1</th>\n",
              "      <td>23</td>\n",
              "      <td>23</td>\n",
              "      <td>165</td>\n",
              "      <td>162</td>\n",
              "      <td>-1.099938</td>\n",
              "      <td>0.032600</td>\n",
              "      <td>1.005887</td>\n",
              "      <td>0.008205</td>\n",
              "      <td>1.414214</td>\n",
              "      <td>-1.414214</td>\n",
              "    </tr>\n",
              "    <tr>\n",
              "      <th>2</th>\n",
              "      <td>29</td>\n",
              "      <td>29</td>\n",
              "      <td>168</td>\n",
              "      <td>162</td>\n",
              "      <td>-0.111939</td>\n",
              "      <td>-0.345232</td>\n",
              "      <td>-0.084933</td>\n",
              "      <td>0.102517</td>\n",
              "      <td>1.414214</td>\n",
              "      <td>1.414214</td>\n",
              "    </tr>\n",
              "    <tr>\n",
              "      <th>3</th>\n",
              "      <td>30</td>\n",
              "      <td>30</td>\n",
              "      <td>41</td>\n",
              "      <td>36</td>\n",
              "      <td>0.048014</td>\n",
              "      <td>0.193218</td>\n",
              "      <td>-0.649755</td>\n",
              "      <td>0.174344</td>\n",
              "      <td>1.414214</td>\n",
              "      <td>1.414214</td>\n",
              "    </tr>\n",
              "    <tr>\n",
              "      <th>4</th>\n",
              "      <td>35</td>\n",
              "      <td>35</td>\n",
              "      <td>30</td>\n",
              "      <td>36</td>\n",
              "      <td>0.700004</td>\n",
              "      <td>1.254664</td>\n",
              "      <td>0.082843</td>\n",
              "      <td>0.312132</td>\n",
              "      <td>1.414214</td>\n",
              "      <td>1.414214</td>\n",
              "    </tr>\n",
              "    <tr>\n",
              "      <th>5</th>\n",
              "      <td>60</td>\n",
              "      <td>60</td>\n",
              "      <td>238</td>\n",
              "      <td>246</td>\n",
              "      <td>0.167347</td>\n",
              "      <td>-0.958249</td>\n",
              "      <td>-1.010805</td>\n",
              "      <td>0.811226</td>\n",
              "      <td>1.414214</td>\n",
              "      <td>-1.414214</td>\n",
              "    </tr>\n",
              "    <tr>\n",
              "      <th>6</th>\n",
              "      <td>75</td>\n",
              "      <td>75</td>\n",
              "      <td>95</td>\n",
              "      <td>91</td>\n",
              "      <td>1.483420</td>\n",
              "      <td>-0.663337</td>\n",
              "      <td>-0.913666</td>\n",
              "      <td>0.238490</td>\n",
              "      <td>-1.414214</td>\n",
              "      <td>1.414214</td>\n",
              "    </tr>\n",
              "    <tr>\n",
              "      <th>7</th>\n",
              "      <td>113</td>\n",
              "      <td>113</td>\n",
              "      <td>87</td>\n",
              "      <td>88</td>\n",
              "      <td>-0.207286</td>\n",
              "      <td>0.896369</td>\n",
              "      <td>-0.075678</td>\n",
              "      <td>0.244347</td>\n",
              "      <td>1.414214</td>\n",
              "      <td>1.414214</td>\n",
              "    </tr>\n",
              "    <tr>\n",
              "      <th>8</th>\n",
              "      <td>115</td>\n",
              "      <td>115</td>\n",
              "      <td>96</td>\n",
              "      <td>88</td>\n",
              "      <td>0.044824</td>\n",
              "      <td>-1.717046</td>\n",
              "      <td>0.440569</td>\n",
              "      <td>0.001306</td>\n",
              "      <td>-1.414214</td>\n",
              "      <td>1.414214</td>\n",
              "    </tr>\n",
              "    <tr>\n",
              "      <th>9</th>\n",
              "      <td>151</td>\n",
              "      <td>151</td>\n",
              "      <td>175</td>\n",
              "      <td>167</td>\n",
              "      <td>0.322875</td>\n",
              "      <td>0.339851</td>\n",
              "      <td>-0.144661</td>\n",
              "      <td>0.363579</td>\n",
              "      <td>-1.414214</td>\n",
              "      <td>-1.414214</td>\n",
              "    </tr>\n",
              "  </tbody>\n",
              "</table>\n",
              "</div>"
            ],
            "text/plain": [
              "   Unnamed: 0  Unnamed: 0.1  ...  encoded_data_real  encoded_data_imag\n",
              "0           0             0  ...           0.000000           0.000000\n",
              "1          23            23  ...           1.414214          -1.414214\n",
              "2          29            29  ...           1.414214           1.414214\n",
              "3          30            30  ...           1.414214           1.414214\n",
              "4          35            35  ...           1.414214           1.414214\n",
              "5          60            60  ...           1.414214          -1.414214\n",
              "6          75            75  ...          -1.414214           1.414214\n",
              "7         113           113  ...           1.414214           1.414214\n",
              "8         115           115  ...          -1.414214           1.414214\n",
              "9         151           151  ...          -1.414214          -1.414214\n",
              "\n",
              "[10 rows x 10 columns]"
            ]
          },
          "metadata": {
            "tags": []
          },
          "execution_count": 281
        }
      ]
    },
    {
      "cell_type": "code",
      "metadata": {
        "id": "oz6bAuBMKxe6"
      },
      "source": [
        "df.drop('Unnamed: 0.1', inplace=True, axis=1)\n",
        "df.drop('Unnamed: 0', inplace=True, axis=1)"
      ],
      "execution_count": 282,
      "outputs": []
    },
    {
      "cell_type": "code",
      "metadata": {
        "colab": {
          "base_uri": "https://localhost:8080/"
        },
        "id": "2atAC_5qKxe7",
        "outputId": "9d5b6a76-f773-4a20-f868-e39c8e403364"
      },
      "source": [
        "df[\"input_data\"].max()   # finding max for normalising"
      ],
      "execution_count": 283,
      "outputs": [
        {
          "output_type": "execute_result",
          "data": {
            "text/plain": [
              "254"
            ]
          },
          "metadata": {
            "tags": []
          },
          "execution_count": 283
        }
      ]
    },
    {
      "cell_type": "code",
      "metadata": {
        "colab": {
          "base_uri": "https://localhost:8080/"
        },
        "id": "QWEJle-2Kxe7",
        "outputId": "d2aee604-12fa-429f-fe2f-62989ff50e6a"
      },
      "source": [
        "df[\"output_data\"].max() # finding max for normalising"
      ],
      "execution_count": 284,
      "outputs": [
        {
          "output_type": "execute_result",
          "data": {
            "text/plain": [
              "251"
            ]
          },
          "metadata": {
            "tags": []
          },
          "execution_count": 284
        }
      ]
    },
    {
      "cell_type": "code",
      "metadata": {
        "id": "TdlhnWw7Kxe8"
      },
      "source": [
        "\n",
        "df = pd.DataFrame(df)"
      ],
      "execution_count": 285,
      "outputs": []
    },
    {
      "cell_type": "code",
      "metadata": {
        "colab": {
          "base_uri": "https://localhost:8080/",
          "height": 297
        },
        "id": "svu5Wnw6Kxe8",
        "outputId": "da3ec77a-5497-4ae4-c8dc-35b297d46917"
      },
      "source": [
        "df.describe()"
      ],
      "execution_count": 286,
      "outputs": [
        {
          "output_type": "execute_result",
          "data": {
            "text/html": [
              "<div>\n",
              "<style scoped>\n",
              "    .dataframe tbody tr th:only-of-type {\n",
              "        vertical-align: middle;\n",
              "    }\n",
              "\n",
              "    .dataframe tbody tr th {\n",
              "        vertical-align: top;\n",
              "    }\n",
              "\n",
              "    .dataframe thead th {\n",
              "        text-align: right;\n",
              "    }\n",
              "</style>\n",
              "<table border=\"1\" class=\"dataframe\">\n",
              "  <thead>\n",
              "    <tr style=\"text-align: right;\">\n",
              "      <th></th>\n",
              "      <th>input_data</th>\n",
              "      <th>output_data</th>\n",
              "      <th>received_data_real</th>\n",
              "      <th>received_data_imag</th>\n",
              "      <th>transmitted_data_real</th>\n",
              "      <th>transmitted_data_imag</th>\n",
              "      <th>encoded_data_real</th>\n",
              "      <th>encoded_data_imag</th>\n",
              "    </tr>\n",
              "  </thead>\n",
              "  <tbody>\n",
              "    <tr>\n",
              "      <th>count</th>\n",
              "      <td>6981.000000</td>\n",
              "      <td>6981.000000</td>\n",
              "      <td>6981.000000</td>\n",
              "      <td>6981.000000</td>\n",
              "      <td>6981.000000</td>\n",
              "      <td>6981.000000</td>\n",
              "      <td>6981.000000</td>\n",
              "      <td>6981.000000</td>\n",
              "    </tr>\n",
              "    <tr>\n",
              "      <th>mean</th>\n",
              "      <td>131.819653</td>\n",
              "      <td>132.345080</td>\n",
              "      <td>0.008376</td>\n",
              "      <td>0.005084</td>\n",
              "      <td>0.007166</td>\n",
              "      <td>0.011763</td>\n",
              "      <td>-0.031197</td>\n",
              "      <td>-0.091566</td>\n",
              "    </tr>\n",
              "    <tr>\n",
              "      <th>std</th>\n",
              "      <td>71.695534</td>\n",
              "      <td>71.763424</td>\n",
              "      <td>0.622017</td>\n",
              "      <td>0.636788</td>\n",
              "      <td>0.434531</td>\n",
              "      <td>0.428540</td>\n",
              "      <td>1.413869</td>\n",
              "      <td>1.411246</td>\n",
              "    </tr>\n",
              "    <tr>\n",
              "      <th>min</th>\n",
              "      <td>0.000000</td>\n",
              "      <td>0.000000</td>\n",
              "      <td>-2.355943</td>\n",
              "      <td>-2.374121</td>\n",
              "      <td>-1.786337</td>\n",
              "      <td>-1.621583</td>\n",
              "      <td>-1.414214</td>\n",
              "      <td>-1.414214</td>\n",
              "    </tr>\n",
              "    <tr>\n",
              "      <th>25%</th>\n",
              "      <td>72.000000</td>\n",
              "      <td>74.000000</td>\n",
              "      <td>-0.372924</td>\n",
              "      <td>-0.407557</td>\n",
              "      <td>-0.247342</td>\n",
              "      <td>-0.243390</td>\n",
              "      <td>-1.414214</td>\n",
              "      <td>-1.414214</td>\n",
              "    </tr>\n",
              "    <tr>\n",
              "      <th>50%</th>\n",
              "      <td>115.000000</td>\n",
              "      <td>119.000000</td>\n",
              "      <td>0.015927</td>\n",
              "      <td>-0.006731</td>\n",
              "      <td>0.000000</td>\n",
              "      <td>0.012132</td>\n",
              "      <td>-1.414214</td>\n",
              "      <td>-1.414214</td>\n",
              "    </tr>\n",
              "    <tr>\n",
              "      <th>75%</th>\n",
              "      <td>197.000000</td>\n",
              "      <td>198.000000</td>\n",
              "      <td>0.380382</td>\n",
              "      <td>0.403548</td>\n",
              "      <td>0.273390</td>\n",
              "      <td>0.266998</td>\n",
              "      <td>1.414214</td>\n",
              "      <td>1.414214</td>\n",
              "    </tr>\n",
              "    <tr>\n",
              "      <th>max</th>\n",
              "      <td>254.000000</td>\n",
              "      <td>251.000000</td>\n",
              "      <td>2.863047</td>\n",
              "      <td>2.510801</td>\n",
              "      <td>1.838973</td>\n",
              "      <td>1.864265</td>\n",
              "      <td>1.414214</td>\n",
              "      <td>1.414214</td>\n",
              "    </tr>\n",
              "  </tbody>\n",
              "</table>\n",
              "</div>"
            ],
            "text/plain": [
              "        input_data  output_data  ...  encoded_data_real  encoded_data_imag\n",
              "count  6981.000000  6981.000000  ...        6981.000000        6981.000000\n",
              "mean    131.819653   132.345080  ...          -0.031197          -0.091566\n",
              "std      71.695534    71.763424  ...           1.413869           1.411246\n",
              "min       0.000000     0.000000  ...          -1.414214          -1.414214\n",
              "25%      72.000000    74.000000  ...          -1.414214          -1.414214\n",
              "50%     115.000000   119.000000  ...          -1.414214          -1.414214\n",
              "75%     197.000000   198.000000  ...           1.414214           1.414214\n",
              "max     254.000000   251.000000  ...           1.414214           1.414214\n",
              "\n",
              "[8 rows x 8 columns]"
            ]
          },
          "metadata": {
            "tags": []
          },
          "execution_count": 286
        }
      ]
    },
    {
      "cell_type": "code",
      "metadata": {
        "id": "PtU2ZS96Kxe8"
      },
      "source": [
        "df.columns = [\"input_data\",\"output_data\",\"received_data_real\",\"received_data_imag\",\"transmitted_data_real\",\"transmitted_data_imag\",\"encoded_data_real\",\"encoded_data_imag\"]"
      ],
      "execution_count": 287,
      "outputs": []
    },
    {
      "cell_type": "code",
      "metadata": {
        "colab": {
          "base_uri": "https://localhost:8080/",
          "height": 419
        },
        "id": "XLU9UQofKxe8",
        "outputId": "8c1eb367-a9f0-48e5-bd58-fc758b76a723"
      },
      "source": [
        "df"
      ],
      "execution_count": 288,
      "outputs": [
        {
          "output_type": "execute_result",
          "data": {
            "text/html": [
              "<div>\n",
              "<style scoped>\n",
              "    .dataframe tbody tr th:only-of-type {\n",
              "        vertical-align: middle;\n",
              "    }\n",
              "\n",
              "    .dataframe tbody tr th {\n",
              "        vertical-align: top;\n",
              "    }\n",
              "\n",
              "    .dataframe thead th {\n",
              "        text-align: right;\n",
              "    }\n",
              "</style>\n",
              "<table border=\"1\" class=\"dataframe\">\n",
              "  <thead>\n",
              "    <tr style=\"text-align: right;\">\n",
              "      <th></th>\n",
              "      <th>input_data</th>\n",
              "      <th>output_data</th>\n",
              "      <th>received_data_real</th>\n",
              "      <th>received_data_imag</th>\n",
              "      <th>transmitted_data_real</th>\n",
              "      <th>transmitted_data_imag</th>\n",
              "      <th>encoded_data_real</th>\n",
              "      <th>encoded_data_imag</th>\n",
              "    </tr>\n",
              "  </thead>\n",
              "  <tbody>\n",
              "    <tr>\n",
              "      <th>0</th>\n",
              "      <td>0</td>\n",
              "      <td>0</td>\n",
              "      <td>0.000000</td>\n",
              "      <td>0.000000</td>\n",
              "      <td>0.000000</td>\n",
              "      <td>0.000000</td>\n",
              "      <td>0.000000</td>\n",
              "      <td>0.000000</td>\n",
              "    </tr>\n",
              "    <tr>\n",
              "      <th>1</th>\n",
              "      <td>165</td>\n",
              "      <td>162</td>\n",
              "      <td>-1.099938</td>\n",
              "      <td>0.032600</td>\n",
              "      <td>1.005887</td>\n",
              "      <td>0.008205</td>\n",
              "      <td>1.414214</td>\n",
              "      <td>-1.414214</td>\n",
              "    </tr>\n",
              "    <tr>\n",
              "      <th>2</th>\n",
              "      <td>168</td>\n",
              "      <td>162</td>\n",
              "      <td>-0.111939</td>\n",
              "      <td>-0.345232</td>\n",
              "      <td>-0.084933</td>\n",
              "      <td>0.102517</td>\n",
              "      <td>1.414214</td>\n",
              "      <td>1.414214</td>\n",
              "    </tr>\n",
              "    <tr>\n",
              "      <th>3</th>\n",
              "      <td>41</td>\n",
              "      <td>36</td>\n",
              "      <td>0.048014</td>\n",
              "      <td>0.193218</td>\n",
              "      <td>-0.649755</td>\n",
              "      <td>0.174344</td>\n",
              "      <td>1.414214</td>\n",
              "      <td>1.414214</td>\n",
              "    </tr>\n",
              "    <tr>\n",
              "      <th>4</th>\n",
              "      <td>30</td>\n",
              "      <td>36</td>\n",
              "      <td>0.700004</td>\n",
              "      <td>1.254664</td>\n",
              "      <td>0.082843</td>\n",
              "      <td>0.312132</td>\n",
              "      <td>1.414214</td>\n",
              "      <td>1.414214</td>\n",
              "    </tr>\n",
              "    <tr>\n",
              "      <th>...</th>\n",
              "      <td>...</td>\n",
              "      <td>...</td>\n",
              "      <td>...</td>\n",
              "      <td>...</td>\n",
              "      <td>...</td>\n",
              "      <td>...</td>\n",
              "      <td>...</td>\n",
              "      <td>...</td>\n",
              "    </tr>\n",
              "    <tr>\n",
              "      <th>6976</th>\n",
              "      <td>246</td>\n",
              "      <td>244</td>\n",
              "      <td>-0.182875</td>\n",
              "      <td>0.716600</td>\n",
              "      <td>-0.562532</td>\n",
              "      <td>-0.293434</td>\n",
              "      <td>-1.414214</td>\n",
              "      <td>1.414214</td>\n",
              "    </tr>\n",
              "    <tr>\n",
              "      <th>6977</th>\n",
              "      <td>243</td>\n",
              "      <td>244</td>\n",
              "      <td>-0.106672</td>\n",
              "      <td>0.282476</td>\n",
              "      <td>-0.093551</td>\n",
              "      <td>0.173241</td>\n",
              "      <td>-1.414214</td>\n",
              "      <td>1.414214</td>\n",
              "    </tr>\n",
              "    <tr>\n",
              "      <th>6978</th>\n",
              "      <td>158</td>\n",
              "      <td>160</td>\n",
              "      <td>-0.951319</td>\n",
              "      <td>-0.972156</td>\n",
              "      <td>-0.483873</td>\n",
              "      <td>0.026971</td>\n",
              "      <td>-1.414214</td>\n",
              "      <td>-1.414214</td>\n",
              "    </tr>\n",
              "    <tr>\n",
              "      <th>6979</th>\n",
              "      <td>96</td>\n",
              "      <td>88</td>\n",
              "      <td>-0.791881</td>\n",
              "      <td>-0.656626</td>\n",
              "      <td>-0.760198</td>\n",
              "      <td>-0.218136</td>\n",
              "      <td>-1.414214</td>\n",
              "      <td>1.414214</td>\n",
              "    </tr>\n",
              "    <tr>\n",
              "      <th>6980</th>\n",
              "      <td>91</td>\n",
              "      <td>88</td>\n",
              "      <td>-0.396416</td>\n",
              "      <td>0.690399</td>\n",
              "      <td>0.182843</td>\n",
              "      <td>0.141421</td>\n",
              "      <td>1.414214</td>\n",
              "      <td>1.414214</td>\n",
              "    </tr>\n",
              "  </tbody>\n",
              "</table>\n",
              "<p>6981 rows × 8 columns</p>\n",
              "</div>"
            ],
            "text/plain": [
              "      input_data  output_data  ...  encoded_data_real  encoded_data_imag\n",
              "0              0            0  ...           0.000000           0.000000\n",
              "1            165          162  ...           1.414214          -1.414214\n",
              "2            168          162  ...           1.414214           1.414214\n",
              "3             41           36  ...           1.414214           1.414214\n",
              "4             30           36  ...           1.414214           1.414214\n",
              "...          ...          ...  ...                ...                ...\n",
              "6976         246          244  ...          -1.414214           1.414214\n",
              "6977         243          244  ...          -1.414214           1.414214\n",
              "6978         158          160  ...          -1.414214          -1.414214\n",
              "6979          96           88  ...          -1.414214           1.414214\n",
              "6980          91           88  ...           1.414214           1.414214\n",
              "\n",
              "[6981 rows x 8 columns]"
            ]
          },
          "metadata": {
            "tags": []
          },
          "execution_count": 288
        }
      ]
    },
    {
      "cell_type": "code",
      "metadata": {
        "id": "72KwaiPsKxe9"
      },
      "source": [
        "X = df[[\"input_data\",\"received_data_real\",\"received_data_imag\",\"transmitted_data_real\",\"transmitted_data_imag\",\"encoded_data_real\",\"encoded_data_imag\"]]\n",
        "y = df[[\"output_data\"]]"
      ],
      "execution_count": 290,
      "outputs": []
    },
    {
      "cell_type": "code",
      "metadata": {
        "id": "yRbDyIerKxe7"
      },
      "source": [
        "scalex = StandardScaler()\n",
        "scaley = StandardScaler()\n",
        "X = scalex.fit_transform(X)\n",
        "y = scaley.fit_transform(y)"
      ],
      "execution_count": 291,
      "outputs": []
    },
    {
      "cell_type": "code",
      "metadata": {
        "id": "775KIVefKxe9"
      },
      "source": [
        " X_train, X_test, y_train, y_test  = train_test_split(X, y, test_size=0.2, random_state=1)"
      ],
      "execution_count": 292,
      "outputs": []
    },
    {
      "cell_type": "code",
      "metadata": {
        "id": "b5nfMuOEKxe9"
      },
      "source": [
        "model = Sequential()"
      ],
      "execution_count": 294,
      "outputs": []
    },
    {
      "cell_type": "code",
      "metadata": {
        "id": "cW_2izmkKxe-"
      },
      "source": [
        "model.add(Dense(units = 4, activation = 'relu', input_dim = 7))\n",
        "model.add(Dense(units = 19,  activation = 'relu'))\n",
        "model.add(Dense(units = 9,  activation = 'softmax'))\n",
        "model.add(Dense(units = 1,  activation = 'linear'))"
      ],
      "execution_count": 295,
      "outputs": []
    },
    {
      "cell_type": "code",
      "metadata": {
        "id": "oOk1wR4-Kxe-"
      },
      "source": [
        "model.compile(loss='mse', optimizer='adam', metrics=['mse','mae'])"
      ],
      "execution_count": 296,
      "outputs": []
    },
    {
      "cell_type": "code",
      "metadata": {
        "colab": {
          "base_uri": "https://localhost:8080/"
        },
        "id": "bfNUu_SJU-Ir",
        "outputId": "b3f0e074-a1a1-40de-e3c8-bf277c93d2ed"
      },
      "source": [
        "model.summary()"
      ],
      "execution_count": 297,
      "outputs": [
        {
          "output_type": "stream",
          "text": [
            "Model: \"sequential_14\"\n",
            "_________________________________________________________________\n",
            "Layer (type)                 Output Shape              Param #   \n",
            "=================================================================\n",
            "dense_59 (Dense)             (None, 4)                 32        \n",
            "_________________________________________________________________\n",
            "dense_60 (Dense)             (None, 10)                50        \n",
            "_________________________________________________________________\n",
            "dense_61 (Dense)             (None, 9)                 99        \n",
            "_________________________________________________________________\n",
            "dense_62 (Dense)             (None, 1)                 10        \n",
            "=================================================================\n",
            "Total params: 191\n",
            "Trainable params: 191\n",
            "Non-trainable params: 0\n",
            "_________________________________________________________________\n"
          ],
          "name": "stdout"
        }
      ]
    },
    {
      "cell_type": "code",
      "metadata": {
        "colab": {
          "base_uri": "https://localhost:8080/"
        },
        "id": "QNOeTADlKxe-",
        "outputId": "7e4a90fe-4bc9-4e1c-cf0b-b8684d521161"
      },
      "source": [
        "hist = model.fit(X_train, y_train,validation_split=0.125, batch_size = 16, epochs = 30)"
      ],
      "execution_count": 298,
      "outputs": [
        {
          "output_type": "stream",
          "text": [
            "Epoch 1/30\n",
            "306/306 [==============================] - 1s 2ms/step - loss: 0.9111 - mse: 0.9111 - mae: 0.8206 - val_loss: 0.5163 - val_mse: 0.5163 - val_mae: 0.5830\n",
            "Epoch 2/30\n",
            "306/306 [==============================] - 0s 1ms/step - loss: 0.3724 - mse: 0.3724 - mae: 0.4894 - val_loss: 0.1309 - val_mse: 0.1309 - val_mae: 0.2875\n",
            "Epoch 3/30\n",
            "306/306 [==============================] - 0s 1ms/step - loss: 0.1127 - mse: 0.1127 - mae: 0.2717 - val_loss: 0.0694 - val_mse: 0.0694 - val_mae: 0.2132\n",
            "Epoch 4/30\n",
            "306/306 [==============================] - 0s 1ms/step - loss: 0.0595 - mse: 0.0595 - mae: 0.1965 - val_loss: 0.0390 - val_mse: 0.0390 - val_mae: 0.1543\n",
            "Epoch 5/30\n",
            "306/306 [==============================] - 0s 1ms/step - loss: 0.0323 - mse: 0.0323 - mae: 0.1417 - val_loss: 0.0236 - val_mse: 0.0236 - val_mae: 0.1198\n",
            "Epoch 6/30\n",
            "306/306 [==============================] - 0s 1ms/step - loss: 0.0201 - mse: 0.0201 - mae: 0.1118 - val_loss: 0.0155 - val_mse: 0.0155 - val_mae: 0.0973\n",
            "Epoch 7/30\n",
            "306/306 [==============================] - 0s 1ms/step - loss: 0.0138 - mse: 0.0138 - mae: 0.0937 - val_loss: 0.0112 - val_mse: 0.0112 - val_mae: 0.0853\n",
            "Epoch 8/30\n",
            "306/306 [==============================] - 0s 1ms/step - loss: 0.0103 - mse: 0.0103 - mae: 0.0814 - val_loss: 0.0089 - val_mse: 0.0089 - val_mae: 0.0772\n",
            "Epoch 9/30\n",
            "306/306 [==============================] - 0s 1ms/step - loss: 0.0081 - mse: 0.0081 - mae: 0.0728 - val_loss: 0.0077 - val_mse: 0.0077 - val_mae: 0.0718\n",
            "Epoch 10/30\n",
            "306/306 [==============================] - 0s 1ms/step - loss: 0.0070 - mse: 0.0070 - mae: 0.0680 - val_loss: 0.0069 - val_mse: 0.0069 - val_mae: 0.0679\n",
            "Epoch 11/30\n",
            "306/306 [==============================] - 0s 1ms/step - loss: 0.0064 - mse: 0.0064 - mae: 0.0653 - val_loss: 0.0062 - val_mse: 0.0062 - val_mae: 0.0650\n",
            "Epoch 12/30\n",
            "306/306 [==============================] - 0s 1ms/step - loss: 0.0061 - mse: 0.0061 - mae: 0.0640 - val_loss: 0.0059 - val_mse: 0.0059 - val_mae: 0.0637\n",
            "Epoch 13/30\n",
            "306/306 [==============================] - 0s 1ms/step - loss: 0.0057 - mse: 0.0057 - mae: 0.0622 - val_loss: 0.0056 - val_mse: 0.0056 - val_mae: 0.0624\n",
            "Epoch 14/30\n",
            "306/306 [==============================] - 0s 1ms/step - loss: 0.0055 - mse: 0.0055 - mae: 0.0613 - val_loss: 0.0053 - val_mse: 0.0053 - val_mae: 0.0611\n",
            "Epoch 15/30\n",
            "306/306 [==============================] - 0s 1ms/step - loss: 0.0054 - mse: 0.0054 - mae: 0.0615 - val_loss: 0.0052 - val_mse: 0.0052 - val_mae: 0.0604\n",
            "Epoch 16/30\n",
            "306/306 [==============================] - 0s 1ms/step - loss: 0.0052 - mse: 0.0052 - mae: 0.0604 - val_loss: 0.0055 - val_mse: 0.0055 - val_mae: 0.0611\n",
            "Epoch 17/30\n",
            "306/306 [==============================] - 0s 1ms/step - loss: 0.0051 - mse: 0.0051 - mae: 0.0595 - val_loss: 0.0049 - val_mse: 0.0049 - val_mae: 0.0591\n",
            "Epoch 18/30\n",
            "306/306 [==============================] - 0s 1ms/step - loss: 0.0049 - mse: 0.0049 - mae: 0.0581 - val_loss: 0.0049 - val_mse: 0.0049 - val_mae: 0.0592\n",
            "Epoch 19/30\n",
            "306/306 [==============================] - 0s 1ms/step - loss: 0.0049 - mse: 0.0049 - mae: 0.0589 - val_loss: 0.0051 - val_mse: 0.0051 - val_mae: 0.0590\n",
            "Epoch 20/30\n",
            "306/306 [==============================] - 0s 1ms/step - loss: 0.0050 - mse: 0.0050 - mae: 0.0602 - val_loss: 0.0047 - val_mse: 0.0047 - val_mae: 0.0584\n",
            "Epoch 21/30\n",
            "306/306 [==============================] - 0s 1ms/step - loss: 0.0048 - mse: 0.0048 - mae: 0.0585 - val_loss: 0.0048 - val_mse: 0.0048 - val_mae: 0.0589\n",
            "Epoch 22/30\n",
            "306/306 [==============================] - 0s 1ms/step - loss: 0.0047 - mse: 0.0047 - mae: 0.0585 - val_loss: 0.0047 - val_mse: 0.0047 - val_mae: 0.0581\n",
            "Epoch 23/30\n",
            "306/306 [==============================] - 0s 1ms/step - loss: 0.0047 - mse: 0.0047 - mae: 0.0578 - val_loss: 0.0046 - val_mse: 0.0046 - val_mae: 0.0578\n",
            "Epoch 24/30\n",
            "306/306 [==============================] - 0s 1ms/step - loss: 0.0047 - mse: 0.0047 - mae: 0.0585 - val_loss: 0.0046 - val_mse: 0.0046 - val_mae: 0.0579\n",
            "Epoch 25/30\n",
            "306/306 [==============================] - 0s 1ms/step - loss: 0.0048 - mse: 0.0048 - mae: 0.0587 - val_loss: 0.0045 - val_mse: 0.0045 - val_mae: 0.0569\n",
            "Epoch 26/30\n",
            "306/306 [==============================] - 0s 1ms/step - loss: 0.0046 - mse: 0.0046 - mae: 0.0574 - val_loss: 0.0045 - val_mse: 0.0045 - val_mae: 0.0567\n",
            "Epoch 27/30\n",
            "306/306 [==============================] - 0s 1ms/step - loss: 0.0049 - mse: 0.0049 - mae: 0.0596 - val_loss: 0.0044 - val_mse: 0.0044 - val_mae: 0.0567\n",
            "Epoch 28/30\n",
            "306/306 [==============================] - 0s 1ms/step - loss: 0.0046 - mse: 0.0046 - mae: 0.0577 - val_loss: 0.0043 - val_mse: 0.0043 - val_mae: 0.0564\n",
            "Epoch 29/30\n",
            "306/306 [==============================] - 0s 1ms/step - loss: 0.0045 - mse: 0.0045 - mae: 0.0568 - val_loss: 0.0045 - val_mse: 0.0045 - val_mae: 0.0569\n",
            "Epoch 30/30\n",
            "306/306 [==============================] - 0s 1ms/step - loss: 0.0046 - mse: 0.0046 - mae: 0.0576 - val_loss: 0.0046 - val_mse: 0.0046 - val_mae: 0.0582\n"
          ],
          "name": "stdout"
        }
      ]
    },
    {
      "cell_type": "code",
      "metadata": {
        "id": "_KXMEyk4Kxe-"
      },
      "source": [
        "y_pred = model.predict(X_test)"
      ],
      "execution_count": 299,
      "outputs": []
    },
    {
      "cell_type": "code",
      "metadata": {
        "id": "BWji_ddLKxe_"
      },
      "source": [
        "scores = model.evaluate(X_test, y_test, verbose=0)"
      ],
      "execution_count": 330,
      "outputs": []
    },
    {
      "cell_type": "code",
      "metadata": {
        "colab": {
          "base_uri": "https://localhost:8080/"
        },
        "id": "7OE_Lq9kPa-g",
        "outputId": "292fe7d0-7a2e-4fbe-d16f-62321782e7b1"
      },
      "source": [
        "scores"
      ],
      "execution_count": 331,
      "outputs": [
        {
          "output_type": "execute_result",
          "data": {
            "text/plain": [
              "[0.004960088990628719, 0.004960088990628719, 0.05966682359576225]"
            ]
          },
          "metadata": {
            "tags": []
          },
          "execution_count": 331
        }
      ]
    },
    {
      "cell_type": "code",
      "metadata": {
        "colab": {
          "base_uri": "https://localhost:8080/",
          "height": 295
        },
        "id": "aWDL9RxzSPnk",
        "outputId": "527268df-764a-49e1-98c0-e8cd4c5409c8"
      },
      "source": [
        "# summarize history for loss\n",
        "plt.plot(hist.history['loss'])\n",
        "plt.plot(hist.history['val_loss'])\n",
        "plt.title('Model Loss')\n",
        "plt.ylabel('Loss')\n",
        "plt.xlabel('Epoch')\n",
        "plt.legend(['Train', 'Test'], loc='upper right')\n",
        "plt.show()"
      ],
      "execution_count": 303,
      "outputs": [
        {
          "output_type": "display_data",
          "data": {
            "image/png": "[encoded data removed]",
            "text/plain": [
              "<Figure size 432x288 with 1 Axes>"
            ]
          },
          "metadata": {
            "tags": [],
            "needs_background": "light"
          }
        }
      ]
    },
    {
      "cell_type": "code",
      "metadata": {
        "colab": {
          "base_uri": "https://localhost:8080/",
          "height": 295
        },
        "id": "WbwoG6b3WcIZ",
        "outputId": "84be25c3-c88e-446a-d667-588d4a454c08"
      },
      "source": [
        "# summarize history for mae \n",
        "plt.plot(hist.history['mae'])\n",
        "plt.plot(hist.history['val_mae'])\n",
        "plt.title('Mean Absolute Error Plot')\n",
        "plt.ylabel('mse')\n",
        "plt.xlabel('Epoch')\n",
        "plt.legend(['Train', 'Test'], loc='upper right')\n",
        "plt.show()\n"
      ],
      "execution_count": 332,
      "outputs": [
        {
          "output_type": "display_data",
          "data": {
            "image/png": "[encoded data removed]",
            "text/plain": [
              "<Figure size 432x288 with 1 Axes>"
            ]
          },
          "metadata": {
            "tags": [],
            "needs_background": "light"
          }
        }
      ]
    },
    {
      "cell_type": "code",
      "metadata": {
        "colab": {
          "base_uri": "https://localhost:8080/"
        },
        "id": "nnTqWrK9q73W",
        "outputId": "7bf4de00-1e6b-422f-f8bb-83374d28a5a2"
      },
      "source": [
        "#predict new values\n",
        "new_inp = [[ 253, 0.86, 0.2,  0.08, 0.3, 1.4, -1.4]]\n",
        "new_inp = scalex.transform(new_inp)\n",
        "value = scaley.inverse_transform(model.predict(new_inp))\n",
        "print(\"output value is \")\n",
        "print(value)"
      ],
      "execution_count": 328,
      "outputs": [
        {
          "output_type": "stream",
          "text": [
            " scaled output value is \n",
            "[[246.77657]]\n"
          ],
          "name": "stdout"
        }
      ]
    },
    {
      "cell_type": "code",
      "metadata": {
        "id": "fIYk-ej8sjGa"
      },
      "source": [
        ""
      ],
      "execution_count": null,
      "outputs": []
    }
  ]
}