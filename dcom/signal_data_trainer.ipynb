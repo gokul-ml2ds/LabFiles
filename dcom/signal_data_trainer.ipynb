{
 "cells": [
  {
   "cell_type": "code",
   "execution_count": 10,
   "metadata": {},
   "outputs": [],
   "source": [
    "# importing important libraries\n",
    "import pandas as pd\n",
    "from tensorflow.keras.models import Sequential\n",
    "from tensorflow.keras.layers import Dense, Activation, Flatten\n",
    "from tensorflow.keras import optimizers\n",
    "import matplotlib.pyplot as plt\n",
    "import seaborn as sns\n",
    "from tensorflow.keras.metrics import AUC, Precision, Recall\n",
    "import tensorflow as tf"
   ]
  },
  {
   "cell_type": "code",
   "execution_count": 11,
   "metadata": {},
   "outputs": [
    {
     "data": {
      "text/plain": [
       "(8249, 9)"
      ]
     },
     "execution_count": 11,
     "metadata": {},
     "output_type": "execute_result"
    }
   ],
   "source": [
    "# loading dataset and cleaning\n",
    "raw_data = pd.read_csv('signal_data.csv')\n",
    "data = raw_data[ abs(raw_data['input_data'] - raw_data['output_data']) <= 10]\n",
    "#data.to_csv('signal_data_updated.csv')\n",
    "data.shape"
   ]
  },
  {
   "cell_type": "code",
   "execution_count": 12,
   "metadata": {},
   "outputs": [
    {
     "name": "stderr",
     "output_type": "stream",
     "text": [
      "C:\\Users\\Kaustubh\\Anaconda3\\lib\\site-packages\\ipykernel_launcher.py:10: SettingWithCopyWarning: \n",
      "A value is trying to be set on a copy of a slice from a DataFrame.\n",
      "Try using .loc[row_indexer,col_indexer] = value instead\n",
      "\n",
      "See the caveats in the documentation: https://pandas.pydata.org/pandas-docs/stable/user_guide/indexing.html#returning-a-view-versus-a-copy\n",
      "  # Remove the CWD from sys.path while we load stuff.\n"
     ]
    }
   ],
   "source": [
    "# splitting data into X and y and pre-processing\n",
    "X_train = data[['input_data',\n",
    "                'received_data_real',\n",
    "                'received_data_imag',\n",
    "                'transmitted_data_real',\n",
    "                'transmitted_data_imag',\n",
    "                'encoded_data_real', \n",
    "                'encoded_data_imag']]\n",
    "\n",
    "X_train['input_data'] /= 255\n",
    "X_train\n",
    "y_train = data['output_data']/255\n"
   ]
  },
  {
   "cell_type": "code",
   "execution_count": 13,
   "metadata": {},
   "outputs": [
    {
     "data": {
      "text/html": [
       "<div>\n",
       "<style scoped>\n",
       "    .dataframe tbody tr th:only-of-type {\n",
       "        vertical-align: middle;\n",
       "    }\n",
       "\n",
       "    .dataframe tbody tr th {\n",
       "        vertical-align: top;\n",
       "    }\n",
       "\n",
       "    .dataframe thead th {\n",
       "        text-align: right;\n",
       "    }\n",
       "</style>\n",
       "<table border=\"1\" class=\"dataframe\">\n",
       "  <thead>\n",
       "    <tr style=\"text-align: right;\">\n",
       "      <th></th>\n",
       "      <th>input_data</th>\n",
       "      <th>received_data_real</th>\n",
       "      <th>received_data_imag</th>\n",
       "      <th>transmitted_data_real</th>\n",
       "      <th>transmitted_data_imag</th>\n",
       "      <th>encoded_data_real</th>\n",
       "      <th>encoded_data_imag</th>\n",
       "    </tr>\n",
       "  </thead>\n",
       "  <tbody>\n",
       "    <tr>\n",
       "      <th>0</th>\n",
       "      <td>0.000000</td>\n",
       "      <td>0.000000</td>\n",
       "      <td>0.000000</td>\n",
       "      <td>0.000000</td>\n",
       "      <td>0.000000</td>\n",
       "      <td>0.000000</td>\n",
       "      <td>0.000000</td>\n",
       "    </tr>\n",
       "    <tr>\n",
       "      <th>23</th>\n",
       "      <td>0.647059</td>\n",
       "      <td>-1.099938</td>\n",
       "      <td>0.032600</td>\n",
       "      <td>1.005887</td>\n",
       "      <td>0.008205</td>\n",
       "      <td>1.414214</td>\n",
       "      <td>-1.414214</td>\n",
       "    </tr>\n",
       "    <tr>\n",
       "      <th>29</th>\n",
       "      <td>0.658824</td>\n",
       "      <td>-0.111939</td>\n",
       "      <td>-0.345232</td>\n",
       "      <td>-0.084933</td>\n",
       "      <td>0.102517</td>\n",
       "      <td>1.414214</td>\n",
       "      <td>1.414214</td>\n",
       "    </tr>\n",
       "    <tr>\n",
       "      <th>30</th>\n",
       "      <td>0.160784</td>\n",
       "      <td>0.048014</td>\n",
       "      <td>0.193218</td>\n",
       "      <td>-0.649755</td>\n",
       "      <td>0.174344</td>\n",
       "      <td>1.414214</td>\n",
       "      <td>1.414214</td>\n",
       "    </tr>\n",
       "    <tr>\n",
       "      <th>35</th>\n",
       "      <td>0.117647</td>\n",
       "      <td>0.700004</td>\n",
       "      <td>1.254664</td>\n",
       "      <td>0.082843</td>\n",
       "      <td>0.312132</td>\n",
       "      <td>1.414214</td>\n",
       "      <td>1.414214</td>\n",
       "    </tr>\n",
       "  </tbody>\n",
       "</table>\n",
       "</div>"
      ],
      "text/plain": [
       "    input_data  received_data_real  received_data_imag  transmitted_data_real  \\\n",
       "0     0.000000            0.000000            0.000000               0.000000   \n",
       "23    0.647059           -1.099938            0.032600               1.005887   \n",
       "29    0.658824           -0.111939           -0.345232              -0.084933   \n",
       "30    0.160784            0.048014            0.193218              -0.649755   \n",
       "35    0.117647            0.700004            1.254664               0.082843   \n",
       "\n",
       "    transmitted_data_imag  encoded_data_real  encoded_data_imag  \n",
       "0                0.000000           0.000000           0.000000  \n",
       "23               0.008205           1.414214          -1.414214  \n",
       "29               0.102517           1.414214           1.414214  \n",
       "30               0.174344           1.414214           1.414214  \n",
       "35               0.312132           1.414214           1.414214  "
      ]
     },
     "execution_count": 13,
     "metadata": {},
     "output_type": "execute_result"
    }
   ],
   "source": [
    "X_train.head()"
   ]
  },
  {
   "cell_type": "code",
   "execution_count": 14,
   "metadata": {},
   "outputs": [
    {
     "data": {
      "text/plain": [
       "0     0.000000\n",
       "23    0.635294\n",
       "29    0.635294\n",
       "30    0.141176\n",
       "35    0.141176\n",
       "Name: output_data, dtype: float64"
      ]
     },
     "execution_count": 14,
     "metadata": {},
     "output_type": "execute_result"
    }
   ],
   "source": [
    "y_train.head()"
   ]
  },
  {
   "cell_type": "code",
   "execution_count": 15,
   "metadata": {},
   "outputs": [],
   "source": [
    "def decimalToBinary(n):  \n",
    "    return bin(n).replace(\"0b\", \"\") "
   ]
  },
  {
   "cell_type": "code",
   "execution_count": 6,
   "metadata": {},
   "outputs": [],
   "source": [
    "#Train the model\n",
    "with tf.device(\"/device:GPU:0\"):\n",
    "    hist = model.fit(X_train, y_train, epochs = 25, shuffle = True)"
   ]
  },
  {
   "cell_type": "code",
   "execution_count": 23,
   "metadata": {},
   "outputs": [
    {
     "name": "stdout",
     "output_type": "stream",
     "text": [
      "4\n"
     ]
    }
   ],
   "source": [
    "A = 202\n",
    "B = 209\n",
    "count = 0\n",
    "for i in range(0,8):  \n",
    "    if ((( A >>  i) & 1) != (( B >>  i) & 1)):  \n",
    "        count = count+1\n",
    "print(count)"
   ]
  },
  {
   "cell_type": "code",
   "execution_count": null,
   "metadata": {},
   "outputs": [],
   "source": []
  },
  {
   "cell_type": "code",
   "execution_count": 24,
   "metadata": {},
   "outputs": [
    {
     "data": {
      "text/plain": [
       "'0b11010001'"
      ]
     },
     "execution_count": 24,
     "metadata": {},
     "output_type": "execute_result"
    }
   ],
   "source": [
    "bin(209)"
   ]
  },
  {
   "cell_type": "code",
   "execution_count": null,
   "metadata": {},
   "outputs": [],
   "source": []
  }
 ],
 "metadata": {
  "kernelspec": {
   "display_name": "Python 3",
   "language": "python",
   "name": "python3"
  },
  "language_info": {
   "codemirror_mode": {
    "name": "ipython",
    "version": 3
   },
   "file_extension": ".py",
   "mimetype": "text/x-python",
   "name": "python",
   "nbconvert_exporter": "python",
   "pygments_lexer": "ipython3",
   "version": "3.7.3"
  }
 },
 "nbformat": 4,
 "nbformat_minor": 2
}
