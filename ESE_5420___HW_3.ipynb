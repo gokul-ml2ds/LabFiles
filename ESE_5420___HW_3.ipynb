{
  "cells": [
    {
      "cell_type": "markdown",
      "metadata": {
        "id": "view-in-github",
        "colab_type": "text"
      },
      "source": [
        "<a href=\"https://colab.research.google.com/github/gokul-ml2ds/LabFiles/blob/main/ESE_5420___HW_3.ipynb\" target=\"_parent\"><img src=\"https://colab.research.google.com/assets/colab-badge.svg\" alt=\"Open In Colab\"/></a>"
      ]
    },
    {
      "cell_type": "markdown",
      "metadata": {
        "id": "klsYpuoDXI6z"
      },
      "source": [
        "# ESE 4020/5420: HW \\#3, Question 4\n",
        "\n",
        "**Name:** Gokul Nair\n",
        "_________"
      ]
    },
    {
      "cell_type": "markdown",
      "source": [
        "To make things easier for you to export this as a neatly organized PDF to merge to your written work, we've created this coding template for you to complete. You should NOT be submitting this `.ipynb` file to Gradescope - we need one single merged `.pdf` of everything.\n",
        "\n",
        "**IMPORTANT: You _MUST_ make a local copy of this in your Drive otherwise the changes won't be saved!**"
      ],
      "metadata": {
        "id": "228vhZzbc5mb"
      }
    },
    {
      "cell_type": "markdown",
      "metadata": {
        "id": "WZDHu_xPXI68"
      },
      "source": [
        "### Imports and Helper Functions"
      ]
    },
    {
      "cell_type": "code",
      "execution_count": 4,
      "metadata": {
        "id": "H-Mv1NxQXI6_"
      },
      "outputs": [],
      "source": [
        "import numpy as np\n",
        "import matplotlib.pyplot as plt\n",
        "import scipy.stats as stats\n",
        "%matplotlib inline"
      ]
    },
    {
      "cell_type": "markdown",
      "source": [
        "Below is a helper function we've written for you that you should call to plot the required graphs. Note that you will need to write your own code in parts (a) through (d) below in order to supply this function with the required inputs."
      ],
      "metadata": {
        "id": "2chdjhIZZ7Dt"
      }
    },
    {
      "cell_type": "code",
      "execution_count": 1,
      "metadata": {
        "id": "6BaApT7XXI7A"
      },
      "outputs": [],
      "source": [
        "def plot_power_effect(param_list, power_list, x_label, title):\n",
        "    # DO NOT MODIFY THIS CODE\n",
        "    plt.plot(param_list, power_list)\n",
        "    plt.grid()\n",
        "    plt.title(title, size = 16)\n",
        "    plt.xlabel(x_label, size = 12)\n",
        "    plt.ylabel('Power of Test', size = 12)"
      ]
    },
    {
      "cell_type": "markdown",
      "source": [
        "The beta of a test (i.e. probability of making a Type II error) is given by:\n",
        "\n",
        "$$\\beta = \\text{Pr(Type II Error)} = \\text{Pr(Fail to Reject } H_0 \\text{ | } H_0 \\text{ is false})$$\n",
        "\n",
        "The power of a test is given by $$1 - \\beta = \\text{Pr(Reject } H_0 \\text{ | } H_0 \\text{ is false})$$\n",
        "\n",
        "**HINT:** the `norm.cdf` function from `scipy.stats` (which we've already aliased as `stats` for you) may come in handy."
      ],
      "metadata": {
        "id": "B8ppAxE7YDHD"
      }
    },
    {
      "cell_type": "markdown",
      "metadata": {
        "id": "Ri5jC4ZNXI7B"
      },
      "source": [
        "### 4(a): $\\mu$ on Power of Test"
      ]
    },
    {
      "cell_type": "code",
      "source": [
        "n = 15\n",
        "alpha = 0.05\n",
        "xhat = 0\n",
        "mu = 0\n",
        "var = 4"
      ],
      "metadata": {
        "id": "wkE6O5G_M5gu"
      },
      "execution_count": 5,
      "outputs": []
    },
    {
      "cell_type": "code",
      "execution_count": 6,
      "metadata": {
        "id": "YNxOnn57XI7B",
        "colab": {
          "base_uri": "https://localhost:8080/",
          "height": 300
        },
        "outputId": "92a03cbd-4d17-4d1b-d2f8-a64609cd4b13"
      },
      "outputs": [
        {
          "output_type": "display_data",
          "data": {
            "text/plain": [
              "<Figure size 432x288 with 1 Axes>"
            ],
            "image/png": "[encoded data removed]"
          },
          "metadata": {
            "needs_background": "light"
          }
        }
      ],
      "source": [
        "def cal_power(n,alpha,x,mu,var):\n",
        "  pow = []\n",
        "  for x_hat in x:\n",
        "    z = abs((x_hat - mu)/np.sqrt(var/n)) \n",
        "    pow.append(1 - 2*(stats.norm.cdf(stats.norm.ppf(1-alpha*0.5) - z))) \n",
        "    # beta is 2 times because the rejection region in on both sides of distribution\n",
        "  return pow\n",
        "\n",
        "xhat = list(np.arange(-10,10,0.5))\n",
        "\n",
        "power_list = cal_power(n,alpha,xhat,mu,var)\n",
        "title =\"True mean vs Power i.e.(1 − β)\"\n",
        "xlabel = \"True mean\"\n",
        "ylabel=\"Power\"\n",
        "plot_power_effect(xhat, power_list, xlabel, title)\n"
      ]
    },
    {
      "cell_type": "markdown",
      "metadata": {
        "id": "Z4H8d7VSXI7C"
      },
      "source": [
        "### 4(b): $\\alpha$ on Power of Test"
      ]
    },
    {
      "cell_type": "code",
      "execution_count": 9,
      "metadata": {
        "id": "cg-525n9XI7D",
        "colab": {
          "base_uri": "https://localhost:8080/",
          "height": 300
        },
        "outputId": "e29e5a9e-0f38-4fd2-a6ee-d03f0c04faeb"
      },
      "outputs": [
        {
          "output_type": "display_data",
          "data": {
            "text/plain": [
              "<Figure size 432x288 with 1 Axes>"
            ],
            "image/png": "[encoded data removed]"
          },
          "metadata": {
            "needs_background": "light"
          }
        }
      ],
      "source": [
        "def cal_power_alpha(n,alpha,x,mu,var):\n",
        "  pow = []\n",
        "  for a in alpha:\n",
        "    z = abs((x - mu)/np.sqrt(var/n))\n",
        "    pow.append(1 - 2*(stats.norm.cdf(stats.norm.ppf(1-a*0.5) - z)))\n",
        "  return pow\n",
        "\n",
        "x = 3 \n",
        "\n",
        "alpha = np.arange(-0.1,0.1,0.001)\n",
        "power_list = cal_power_alpha(n,alpha,mu,var,x)\n",
        "\n",
        "title =\"α vs Power i.e.(1 − β)\"\n",
        "xlabel = \"α\"\n",
        "ylabel=\"Power\"\n",
        "plot_power_effect(alpha,power_list, xlabel, title)"
      ]
    },
    {
      "cell_type": "markdown",
      "metadata": {
        "id": "qDdjWnpLXI7E"
      },
      "source": [
        "### 4(c): $n$ on Power of Test"
      ]
    },
    {
      "cell_type": "code",
      "execution_count": 11,
      "metadata": {
        "id": "q0x0EwPMXI7E",
        "colab": {
          "base_uri": "https://localhost:8080/",
          "height": 300
        },
        "outputId": "cbcbc645-0ce2-4028-c320-24c7e3078136"
      },
      "outputs": [
        {
          "output_type": "display_data",
          "data": {
            "text/plain": [
              "<Figure size 432x288 with 1 Axes>"
            ],
            "image/png": "[encoded data removed]"
          },
          "metadata": {
            "needs_background": "light"
          }
        }
      ],
      "source": [
        "def cal_power_n(nums,alpha,x,mu,var):\n",
        "  pow = []\n",
        "  for n in nums:\n",
        "    z = abs((x - mu)/np.sqrt(var/n))\n",
        "    pow.append(1 - 2*(stats.norm.cdf(stats.norm.ppf(1-alpha*0.5) - z)))\n",
        "  return pow\n",
        "\n",
        "x= 3 \n",
        "alpha = 0.05\n",
        "mu = 0\n",
        "var = 4\n",
        "nums = list(range(1,50))\n",
        "power_list = cal_power_n(nums,alpha,mu,var,x)\n",
        "title =\"n(sample size) vs Power i.e.(1 − β)\"\n",
        "xlabel = \"n\"\n",
        "ylabel=\"Power\"\n",
        "plot_power_effect(nums,power_list, xlabel, title)"
      ]
    },
    {
      "cell_type": "markdown",
      "metadata": {
        "id": "X_GiZIQWXI7F"
      },
      "source": [
        "### 4(d): $\\sigma^2$ on Power of Test"
      ]
    },
    {
      "cell_type": "code",
      "execution_count": 13,
      "metadata": {
        "id": "ockMBQ8GXI7F",
        "colab": {
          "base_uri": "https://localhost:8080/",
          "height": 300
        },
        "outputId": "e0ff01e3-652c-47e2-b303-a714fd5d7129"
      },
      "outputs": [
        {
          "output_type": "display_data",
          "data": {
            "text/plain": [
              "<Figure size 432x288 with 1 Axes>"
            ],
            "image/png": "[encoded data removed]"
          },
          "metadata": {
            "needs_background": "light"
          }
        }
      ],
      "source": [
        "def cal_power_var(n,alpha,x,mu,var_l):\n",
        "  pow = []\n",
        "  for v in var_l:\n",
        "    z = abs((x - mu)/np.sqrt(v/n))\n",
        "    pow.append(1 - 2*(stats.norm.cdf(stats.norm.ppf(1-alpha*0.5) - z)))\n",
        "  return pow\n",
        "\n",
        "x= 3 \n",
        "alpha = 0.05\n",
        "mu = 0\n",
        "var =list(np.arange(1,1000,0.5))\n",
        "n = 15\n",
        "power_list = cal_power_var(n,alpha,x,mu,var)\n",
        "\n",
        "title =\"σ2(Variance) vs Power i.e.(1 − β)\"\n",
        "xlabel = \"σ2 \"\n",
        "ylabel = \"Power\"\n",
        "plot_power_effect(var,power_list, xlabel, title)"
      ]
    },
    {
      "cell_type": "markdown",
      "metadata": {
        "id": "J6tuI59RXI7G"
      },
      "source": [
        "### 4(e): Comparisons and Interpretations"
      ]
    },
    {
      "cell_type": "markdown",
      "metadata": {
        "id": "zXrKIduDXI7G"
      },
      "source": [
        "#### **(i): _$\\mu$ and Power_**\n",
        "\n",
        "- (double-click and type your response here)"
      ]
    },
    {
      "cell_type": "markdown",
      "source": [
        "#### **(ii): _$\\alpha$ and Power_**\n",
        "\n",
        "- (double-click and type your response here)"
      ],
      "metadata": {
        "id": "qBUKpIuCZtAa"
      }
    },
    {
      "cell_type": "markdown",
      "source": [
        "#### **(iii): _$n$ and Power_**\n",
        "\n",
        "- (double-click and type your response here)"
      ],
      "metadata": {
        "id": "dWPtIK48Zunx"
      }
    },
    {
      "cell_type": "markdown",
      "source": [
        "#### **(iv): _$\\sigma^2$ and Power_**\n",
        "\n",
        "- (double-click and type your response here)"
      ],
      "metadata": {
        "id": "6B1B2OhVZwHT"
      }
    }
  ],
  "metadata": {
    "kernelspec": {
      "display_name": "Python 3",
      "language": "python",
      "name": "python3"
    },
    "language_info": {
      "codemirror_mode": {
        "name": "ipython",
        "version": 3
      },
      "file_extension": ".py",
      "mimetype": "text/x-python",
      "name": "python",
      "nbconvert_exporter": "python",
      "pygments_lexer": "ipython3",
      "version": "3.7.1"
    },
    "colab": {
      "provenance": [],
      "collapsed_sections": [
        "zXrKIduDXI7G",
        "qBUKpIuCZtAa",
        "dWPtIK48Zunx"
      ],
      "include_colab_link": true
    }
  },
  "nbformat": 4,
  "nbformat_minor": 0
}